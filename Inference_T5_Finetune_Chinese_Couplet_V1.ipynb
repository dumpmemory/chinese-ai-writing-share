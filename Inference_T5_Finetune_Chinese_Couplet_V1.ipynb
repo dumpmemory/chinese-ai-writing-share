{
  "nbformat": 4,
  "nbformat_minor": 0,
  "metadata": {
    "colab": {
      "name": "Inference T5 Finetune Chinese Couplet V1",
      "provenance": [],
      "collapsed_sections": [],
      "authorship_tag": "ABX9TyPToQi+nta8Lrh/ZDsBkyA/",
      "include_colab_link": true
    },
    "kernelspec": {
      "name": "python3",
      "display_name": "Python 3"
    },
    "language_info": {
      "name": "python"
    },
    "accelerator": "GPU"
  },
  "cells": [
    {
      "cell_type": "markdown",
      "metadata": {
        "id": "view-in-github",
        "colab_type": "text"
      },
      "source": [
        "<a href=\"https://colab.research.google.com/github/hululuzhu/chinese-ai-writing-share/blob/main/Inference_T5_Finetune_Chinese_Couplet_V1.ipynb\" target=\"_parent\"><img src=\"https://colab.research.google.com/assets/colab-badge.svg\" alt=\"Open In Colab\"/></a>"
      ]
    },
    {
      "cell_type": "markdown",
      "source": [
        "# Inference for models trained from [T5 chinese couplet colab](https://github.com/hululuzhu/chinese-ai-writing-share/blob/main/Mengzi_T5_Finetune_Chinese_Couplet_V1.ipynb) and [T5 chinese Poem colab](https://github.com/hululuzhu/chinese-ai-writing-share/blob/main/WIP_Mengzi_T5_Finetune_Chinese_Poem_Writing_V1.ipynb)\n",
        "- Download my saved models at [couplet model link](https://drive.google.com/drive/folders/1bQb_nrHHLkDYj09P2rrX7PSvHD8h3cTx?usp=sharing) and [poem model link](https://drive.google.com/drive/folders/1ZymaSbOcwlslD5tuUIk_9__C2dUJK_UY?usp=sharing)"
      ],
      "metadata": {
        "id": "IsQADAHEdrEH"
      }
    },
    {
      "cell_type": "markdown",
      "source": [
        "## Load package and previously trained models"
      ],
      "metadata": {
        "id": "i_0LZLuCd0XX"
      }
    },
    {
      "cell_type": "code",
      "execution_count": 1,
      "metadata": {
        "id": "5mNUEaT_bzWu"
      },
      "outputs": [],
      "source": [
        "# Quite install simple T5 package\n",
        "!pip install -q simplet5 &> /dev/null"
      ]
    },
    {
      "cell_type": "code",
      "source": [
        "from google.colab import drive\n",
        "drive.mount('/content/drive')"
      ],
      "metadata": {
        "colab": {
          "base_uri": "https://localhost:8080/"
        },
        "id": "5rH9CaTNb-Hg",
        "outputId": "acbe19dd-732e-4eb1-9660-4c37526ff71c"
      },
      "execution_count": 2,
      "outputs": [
        {
          "output_type": "stream",
          "name": "stdout",
          "text": [
            "Mounted at /content/drive\n"
          ]
        }
      ]
    },
    {
      "cell_type": "code",
      "source": [
        "!mkdir -p my_t5/couplet\n",
        "!mkdir -p my_t5/poem\n",
        "!cp /content/drive/MyDrive/ML/Models/t5-couplet/simplet5-epoch-2-train-loss-3.126/* my_t5/couplet\n",
        "!cp /content/drive/MyDrive/ML/Models/t5-poem/simplet5-epoch-2-train-loss-3.8297/* my_t5/poem"
      ],
      "metadata": {
        "id": "fsQmKxtMcDof"
      },
      "execution_count": 3,
      "outputs": []
    },
    {
      "cell_type": "code",
      "source": [
        "import torch\n",
        "from simplet5 import SimpleT5\n",
        "from transformers import T5Tokenizer, T5ForConditionalGeneration\n",
        "\n",
        "class MengziSimpleT5(SimpleT5):\n",
        "  def __init__(self) -> None:\n",
        "    super().__init__()\n",
        "    self.device = torch.device(\"cuda\")\n",
        "\n",
        "  def load_my_model(self, local_path, use_gpu: bool = True):\n",
        "    self.tokenizer = T5Tokenizer.from_pretrained(\"Langboat/mengzi-t5-base\")\n",
        "    self.model = T5ForConditionalGeneration.from_pretrained(local_path)"
      ],
      "metadata": {
        "id": "fVcInEjtccR1",
        "outputId": "6bf705cb-6a85-4112-aef5-063c8da16b7a",
        "colab": {
          "base_uri": "https://localhost:8080/"
        }
      },
      "execution_count": 4,
      "outputs": [
        {
          "output_type": "stream",
          "name": "stderr",
          "text": [
            "Global seed set to 42\n"
          ]
        }
      ]
    },
    {
      "cell_type": "code",
      "source": [
        "couplet_model = MengziSimpleT5()\n",
        "couplet_model.load_my_model(local_path='my_t5/couplet')\n",
        "couplet_model.model = couplet_model.model.to('cuda')\n",
        "\n",
        "COUPLET_PROMPOT = '对联：'\n",
        "MAX_SEQ_LEN = 32\n",
        "MAX_OUT_TOKENS = MAX_SEQ_LEN\n",
        "\n",
        "def couplet(in_str, model=couplet_model):\n",
        "  model.model = model.model.to('cuda')\n",
        "  in_request = f\"{COUPLET_PROMPOT}{in_str[:MAX_SEQ_LEN]}\"\n",
        "  print(f\"上： {in_str}\\n下：\", model.predict(\n",
        "      in_request,\n",
        "      max_length=MAX_OUT_TOKENS)[0])"
      ],
      "metadata": {
        "id": "n5zWCQa0cjWc"
      },
      "execution_count": 23,
      "outputs": []
    },
    {
      "cell_type": "code",
      "source": [
        "AUTHOR_PROMPT = \"模仿：\"\n",
        "TITLE_PROMPT = \"作诗：\"\n",
        "EOS_TOKEN = '</s>'\n",
        "\n",
        "poem_model = MengziSimpleT5()\n",
        "poem_model.load_my_model(local_path='my_t5/poem')\n",
        "poem_model.model = poem_model.model.to('cuda')\n",
        "MAX_AUTHOR_CHAR = 4\n",
        "MAX_TITLE_CHAR = 12\n",
        "MIN_CONTENT_CHAR = 10\n",
        "MAX_CONTENT_CHAR = 64\n",
        "\n",
        "def poem(title_str, opt_author=None, model=poem_model):\n",
        "  model.model = model.model.to('cuda')\n",
        "  if opt_author:\n",
        "    in_request = TITLE_PROMPT + title_str[:MAX_TITLE_CHAR] + EOS_TOKEN + AUTHOR_PROMPT + opt_author[:MAX_AUTHOR_CHAR]\n",
        "  else:\n",
        "    in_request = TITLE_PROMPT + title_str[:MAX_TITLE_CHAR]\n",
        "  print(f\"标题： {in_request}\\n诗歌：\", model.predict(\n",
        "      in_request,\n",
        "      max_length=MAX_CONTENT_CHAR)[0])"
      ],
      "metadata": {
        "id": "5fhJdzoWBip2"
      },
      "execution_count": 16,
      "outputs": []
    },
    {
      "cell_type": "markdown",
      "source": [
        "## Inference now\n",
        "- Note we turned off sampling to see determistic results for comparison"
      ],
      "metadata": {
        "id": "fYLkzlt4d4DM"
      }
    },
    {
      "cell_type": "code",
      "source": [
        "# epoch 3 after 6 hours, looks good enough\n",
        "for pre in ['欢天喜地度佳节', '不待鸣钟已汗颜，重来试手竟何艰',\n",
        "            '当年欲跃龙门去，今日真披马革还', '载歌在谷',\n",
        "            '北国风光，千里冰封，万里雪飘',\n",
        "            '独立寒秋，湘江北去，橘子洲头']:\n",
        "  couplet(pre)"
      ],
      "metadata": {
        "colab": {
          "base_uri": "https://localhost:8080/"
        },
        "id": "o6DwGQSbdDtj",
        "outputId": "23a5ba7a-1a34-4877-94e6-d63c2cf64f56"
      },
      "execution_count": 25,
      "outputs": [
        {
          "output_type": "stream",
          "name": "stdout",
          "text": [
            "上： 欢天喜地度佳节\n",
            "下： 笑语欢歌迎新春\n",
            "上： 不待鸣钟已汗颜，重来试手竟何艰\n",
            "下： 何堪击鼓频催泪?一别伤心更枉然\n",
            "上： 当年欲跃龙门去，今日真披马革还\n",
            "下： 此日当登虎榜来,他年又见龙图新\n",
            "上： 载歌在谷\n",
            "下： 对酒当歌\n",
            "上： 北国风光，千里冰封，万里雪飘\n",
            "下： 南疆气象,五湖浪涌,三江潮来\n",
            "上： 独立寒秋，湘江北去，橘子洲头\n",
            "下： 遥思故里,雁字南飞,橘子洲头\n"
          ]
        }
      ]
    },
    {
      "cell_type": "code",
      "source": [
        "for title in ['秋思', '百度', \"百花\", \"谷歌\", \"中秋\"]:\n",
        "  for author in ['', \"杜甫\", \"李白\", \"李清照\", \"苏东坡\"]:\n",
        "    poem(title, author)\n",
        "  print()"
      ],
      "metadata": {
        "colab": {
          "base_uri": "https://localhost:8080/"
        },
        "id": "BArFrkpTBgX0",
        "outputId": "8a53bbeb-0e59-403b-d6ba-53eb3d13b8aa"
      },
      "execution_count": 26,
      "outputs": [
        {
          "output_type": "stream",
          "name": "stdout",
          "text": [
            "标题： 作诗：秋思\n",
            "诗歌： 秋色满西风,萧萧客思中。雁声连远水,砧韵入疏桐。病骨愁边减,衰顔镜裏空。故园归未得,何日赋归鸿。\n",
            "标题： 作诗：秋思</s>模仿：杜甫\n",
            "诗歌： 西风动高树,秋色满江城。客思惊残夢,乡心寄远情。雁声随暮角,砧韵入寒更。欲问南飞翼,云山隔此生。\n",
            "标题： 作诗：秋思</s>模仿：李白\n",
            "诗歌： 秋色满西楼,凉风动客愁。雁声连海远,人影入江流。月落千山静,天高万籁秋。何当一樽酒,相与醉高楼。\n",
            "标题： 作诗：秋思</s>模仿：李清照\n",
            "诗歌： 秋色满庭树,萧萧风露寒。客心随雁远,归夢绕江干。月落千山静,天高万里宽。故园何日到,一叶下云端。\n",
            "标题： 作诗：秋思</s>模仿：苏东坡\n",
            "诗歌： 秋色已萧索,客愁还郁陶。雨声来枕上,月色到樽中。老去心犹壮,闲来眼更空。故园归未得,何日是西风。\n",
            "\n",
            "标题： 作诗：百度\n",
            "诗歌： 百尺危楼倚碧空,一川秋色晴空。不知身在青天外,何似云间见日中。\n",
            "标题： 作诗：百度</s>模仿：杜甫\n",
            "诗歌： 蜀道多险阻,秦川多崄。云深迷鸟道,雨急失龙湫。地僻人稀到,天高日易秋。何当乘兴去,一叶泛沧洲。\n",
            "标题： 作诗：百度</s>模仿：李白\n",
            "诗歌： 蜀道如天险,秦川似掌平。三山连海尽,一水到江清。\n",
            "标题： 作诗：百度</s>模仿：李清照\n",
            "诗歌： 百尺危楼倚碧空,千寻古木锁晴空。行人莫道无仙骨,只合乘云到阆风。\n",
            "标题： 作诗：百度</s>模仿：苏东坡\n",
            "诗歌： 百尺危楼倚碧空,千寻古木锁晴空。不知何处飞来雨,但见江声到枕中。\n",
            "\n",
            "标题： 作诗：百花\n",
            "诗歌： 百花开尽绿阴成,春色何曾减旧情。自是东风多意思,不教风雨损花英。\n",
            "标题： 作诗：百花</s>模仿：杜甫\n",
            "诗歌： 百花春色好,花发满江城。日暖游蜂闹,风和戏蝶轻。乱飞红踯躅,争舞翠旌。莫怪频回首,芳菲已暗生。\n",
            "标题： 作诗：百花</s>模仿：李白\n",
            "诗歌： 百花如锦水,春色满芳洲。日暖游鱼乐,风和戏蝶愁。\n",
            "标题： 作诗：百花</s>模仿：李清照\n",
            "诗歌： 百花开尽绿阴成,春色何曾减旧情。莫道东风无意思,只应留得两三声。\n",
            "标题： 作诗：百花</s>模仿：苏东坡\n",
            "诗歌： 百花开尽绿阴成,春色都归醉眼明。莫道东风无意思,只应留得两三声。\n",
            "\n",
            "标题： 作诗：谷歌\n",
            "诗歌： 西山有奇石,上有千丈松。下有百尺松,上无千岁松。\n",
            "标题： 作诗：谷歌</s>模仿：杜甫\n",
            "诗歌： 巴西有奇石,磊落不可攀。上有百尺松,下有千岁山。高枝压巨浸,直上凌云间。猱啸空谷,鸟兽惊且攀。我行万里外,欲往无由攀。\n",
            "标题： 作诗：谷歌</s>模仿：李白\n",
            "诗歌： 巴西有奇石,上有青松枝。下有千岁鹤,飞鸣向空飞。\n",
            "标题： 作诗：谷歌</s>模仿：李清照\n",
            "诗歌： 西山有奇石,下有千丈松。上有老龙卧,下有苍龙蟠。云根抱岩腹,尾垂天风。长啸出林杪,万籁生秋空。\n",
            "标题： 作诗：谷歌</s>模仿：苏东坡\n",
            "诗歌： 西山有奇石,下有千丈松。上有老龙卧,下有白鹤踪。云生谷口月,水落潭心风。我欲往从之,长啸青冥中。\n",
            "\n",
            "标题： 作诗：中秋\n",
            "诗歌： 秋色今宵半,清光此夜分。月华明远水,天影入疏云。露冷蛩声苦,风高雁影分。何人伴幽独,孤坐对寒。\n",
            "标题： 作诗：中秋</s>模仿：杜甫\n",
            "诗歌： 秋色今宵半,江天万里同。云开山尽白,月出水无穷。远树惊飞鹊,寒沙起断鸿。故园今夜夢,应到楚王宫。\n",
            "标题： 作诗：中秋</s>模仿：李白\n",
            "诗歌： 秋色满天地,清光生太虚。天高无云雨,地远绝纤氛。桂子香犹在,芙蓉影正舒。何当乘此兴,一醉卧东吴。\n",
            "标题： 作诗：中秋</s>模仿：李清照\n",
            "诗歌： 月华如水浸秋空,万里清光一镜中。莫道人间无此景,只缘人世有穷通。\n",
            "标题： 作诗：中秋</s>模仿：苏东坡\n",
            "诗歌： 月色如佳人,秋容似清露。我行亦何事,欲去复迟迟。今夕定何夕,此夕良已迟。人生百年中,倏忽不可期。但恐风雨来,飘零成白。\n",
            "\n"
          ]
        }
      ]
    }
  ]
}