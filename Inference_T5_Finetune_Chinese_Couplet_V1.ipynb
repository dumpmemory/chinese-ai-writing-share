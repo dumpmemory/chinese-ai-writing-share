{
  "nbformat": 4,
  "nbformat_minor": 0,
  "metadata": {
    "colab": {
      "name": "Inference T5 Finetune Chinese Couplet V1",
      "provenance": [],
      "collapsed_sections": [],
      "authorship_tag": "ABX9TyParWo6O9vatiJCHwoNTJF+",
      "include_colab_link": true
    },
    "kernelspec": {
      "name": "python3",
      "display_name": "Python 3"
    },
    "language_info": {
      "name": "python"
    },
    "accelerator": "GPU"
  },
  "cells": [
    {
      "cell_type": "markdown",
      "metadata": {
        "id": "view-in-github",
        "colab_type": "text"
      },
      "source": [
        "<a href=\"https://colab.research.google.com/github/hululuzhu/chinese-ai-writing-share/blob/main/Inference_T5_Finetune_Chinese_Couplet_V1.ipynb\" target=\"_parent\"><img src=\"https://colab.research.google.com/assets/colab-badge.svg\" alt=\"Open In Colab\"/></a>"
      ]
    },
    {
      "cell_type": "markdown",
      "source": [
        "# Inference for models trained from [T5 chinese couplet training colab](https://github.com/hululuzhu/chinese-ai-writing-share/blob/main/Mengzi_T5_Finetune_Chinese_Couplet_V1.ipynb)"
      ],
      "metadata": {
        "id": "IsQADAHEdrEH"
      }
    },
    {
      "cell_type": "markdown",
      "source": [
        "## Load package and previously trained models"
      ],
      "metadata": {
        "id": "i_0LZLuCd0XX"
      }
    },
    {
      "cell_type": "code",
      "execution_count": 1,
      "metadata": {
        "id": "5mNUEaT_bzWu"
      },
      "outputs": [],
      "source": [
        "# Quite install simple T5 package\n",
        "!pip install -q simplet5 &> /dev/null"
      ]
    },
    {
      "cell_type": "code",
      "source": [
        "from google.colab import drive\n",
        "drive.mount('/content/drive')"
      ],
      "metadata": {
        "colab": {
          "base_uri": "https://localhost:8080/"
        },
        "id": "5rH9CaTNb-Hg",
        "outputId": "a10d7b42-d199-4265-c947-0ad9cedbe152"
      },
      "execution_count": 2,
      "outputs": [
        {
          "output_type": "stream",
          "name": "stdout",
          "text": [
            "Mounted at /content/drive\n"
          ]
        }
      ]
    },
    {
      "cell_type": "code",
      "source": [
        "!mkdir -p my_t5/finetune_epoch1\n",
        "!cp /content/drive/MyDrive/ML/Models/t5-couplet/simplet5-epoch-0-train-loss-3.8253/* my_t5/finetune_epoch1"
      ],
      "metadata": {
        "id": "fsQmKxtMcDof"
      },
      "execution_count": 3,
      "outputs": []
    },
    {
      "cell_type": "code",
      "source": [
        "!ls my_t5/finetune_epoch1 -l"
      ],
      "metadata": {
        "colab": {
          "base_uri": "https://localhost:8080/"
        },
        "id": "3Q1Ulu7ucZYv",
        "outputId": "ffac4c4a-d97e-4921-bdc8-c9bca8deba51"
      },
      "execution_count": 4,
      "outputs": [
        {
          "output_type": "stream",
          "name": "stdout",
          "text": [
            "total 967956\n",
            "-rw------- 1 root root       706 Feb  7 04:29 config.json\n",
            "-rw------- 1 root root 990438349 Feb  7 04:29 pytorch_model.bin\n",
            "-rw------- 1 root root      1786 Feb  7 04:29 special_tokens_map.json\n",
            "-rw------- 1 root root    725135 Feb  7 04:29 spiece.model\n",
            "-rw------- 1 root root      1961 Feb  7 04:29 tokenizer_config.json\n"
          ]
        }
      ]
    },
    {
      "cell_type": "code",
      "source": [
        "import torch\n",
        "from simplet5 import SimpleT5\n",
        "from transformers import T5Tokenizer, T5ForConditionalGeneration\n",
        "\n",
        "class MengziSimpleT5(SimpleT5):\n",
        "  def __init__(self) -> None:\n",
        "    super().__init__()\n",
        "    self.device = torch.device(\"cuda\")\n",
        "\n",
        "  def load_my_model(self, use_gpu: bool = True):\n",
        "    self.tokenizer = T5Tokenizer.from_pretrained(\"Langboat/mengzi-t5-base\")\n",
        "    self.model = T5ForConditionalGeneration.from_pretrained(\"my_t5/finetune_epoch1\")"
      ],
      "metadata": {
        "id": "fVcInEjtccR1"
      },
      "execution_count": 7,
      "outputs": []
    },
    {
      "cell_type": "code",
      "source": [
        "model = MengziSimpleT5()\n",
        "model.load_my_model()\n",
        "model.model = model.model.to('cuda')\n",
        "\n",
        "COUPLET_PROMPOT = '对联：'\n",
        "MAX_SEQ_LEN = 32\n",
        "MAX_OUT_TOKENS = MAX_SEQ_LEN\n",
        "\n",
        "def predict_now(in_str, model=model):\n",
        "  model.model = model.model.to('cuda')\n",
        "  in_request = f\"{COUPLET_PROMPOT}{in_str[:MAX_SEQ_LEN]}\"\n",
        "  print(in_str, model.predict(\n",
        "      in_request,\n",
        "      max_length=min(MAX_OUT_TOKENS, len(in_request) - len(COUPLET_PROMPOT)),\n",
        "      num_beams=1,\n",
        "      top_p=1.0,\n",
        "      top_k=1,\n",
        "      do_sample=False)) # topp, num_beams ..."
      ],
      "metadata": {
        "id": "n5zWCQa0cjWc"
      },
      "execution_count": 16,
      "outputs": []
    },
    {
      "cell_type": "markdown",
      "source": [
        "## Inference now\n",
        "- Note we turned off sampling to see determistic results for comparison"
      ],
      "metadata": {
        "id": "fYLkzlt4d4DM"
      }
    },
    {
      "cell_type": "code",
      "source": [
        "print(\"Epoch 1:\\n\")\n",
        "for pre in ['欢天喜地度佳节', '不待鸣钟已汗颜，重来试手竟何艰',\n",
        "            '当年欲跃龙门去，今日真披马革还', '载歌在谷']:\n",
        "  predict_now(pre)"
      ],
      "metadata": {
        "colab": {
          "base_uri": "https://localhost:8080/"
        },
        "id": "o6DwGQSbdDtj",
        "outputId": "ebaa77c6-106c-4c91-a960-257ba4a76b12"
      },
      "execution_count": 20,
      "outputs": [
        {
          "output_type": "stream",
          "name": "stdout",
          "text": [
            "Epoch 1:\n",
            "\n",
            "欢天喜地度佳节 ['喜地欢天迎新春']\n",
            "不待鸣钟已汗颜，重来试手竟何艰 ['但凭杯酒长精神,一醉忘年犹未归']\n",
            "当年欲跃龙门去，今日真披马革还 ['此日将登虎榜来,他年再驾马蹄归']\n",
            "载歌在谷 ['有酒于']\n"
          ]
        }
      ]
    }
  ]
}