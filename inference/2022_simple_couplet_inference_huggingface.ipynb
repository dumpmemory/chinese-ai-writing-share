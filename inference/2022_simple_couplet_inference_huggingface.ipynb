{
  "nbformat": 4,
  "nbformat_minor": 0,
  "metadata": {
    "colab": {
      "provenance": [],
      "authorship_tag": "ABX9TyOe9hR08DrR8v3RzKypNy4m",
      "include_colab_link": true
    },
    "kernelspec": {
      "name": "python3",
      "display_name": "Python 3"
    },
    "language_info": {
      "name": "python"
    },
    "accelerator": "GPU",
    "gpuClass": "standard"
  },
  "cells": [
    {
      "cell_type": "markdown",
      "metadata": {
        "id": "view-in-github",
        "colab_type": "text"
      },
      "source": [
        "<a href=\"https://colab.research.google.com/github/hululuzhu/chinese-ai-writing-share/blob/main/inference/2022_simple_couplet_inference_huggingface.ipynb\" target=\"_parent\"><img src=\"https://colab.research.google.com/assets/colab-badge.svg\" alt=\"Open In Colab\"/></a>"
      ]
    },
    {
      "cell_type": "code",
      "execution_count": 1,
      "metadata": {
        "id": "7S6arcdNCxc9"
      },
      "outputs": [],
      "source": [
        "# Quite install simple T5 package\n",
        "!pip install -q simplet5 &> /dev/null\n",
        "!pip install -q chinese-converter > /tmp/na"
      ]
    },
    {
      "cell_type": "code",
      "source": [
        "import torch\n",
        "from simplet5 import SimpleT5\n",
        "from transformers import T5Tokenizer, T5ForConditionalGeneration\n",
        "import chinese_converter\n",
        "\n",
        "MODEL_PATH = \"hululuzhu/chinese-couplet-t5-mengzi-finetune\"\n",
        "class PoemModel(SimpleT5):\n",
        "  def __init__(self) -> None:\n",
        "    super().__init__()\n",
        "    self.device = torch.device(\"cuda\")\n",
        "\n",
        "  def load_my_model(self):\n",
        "    self.tokenizer = T5Tokenizer.from_pretrained(MODEL_PATH)\n",
        "    self.model = T5ForConditionalGeneration.from_pretrained(MODEL_PATH)\n",
        "\n",
        "COUPLET_PROMPOT = '对联：'\n",
        "MAX_SEQ_LEN = 32\n",
        "MAX_OUT_TOKENS = MAX_SEQ_LEN\n",
        "\n",
        "couplet_model = PoemModel()\n",
        "couplet_model.load_my_model()\n",
        "couplet_model.model = couplet_model.model.to('cuda')\n",
        "\n",
        "def couplet(in_str, model=couplet_model,\n",
        "            is_input_traditional_chinese=False,\n",
        "            num_beams=2):\n",
        "  model.model = model.model.to('cuda')\n",
        "  in_request = f\"{COUPLET_PROMPOT}{in_str[:MAX_SEQ_LEN]}\"\n",
        "  if is_input_traditional_chinese:\n",
        "    # model only knows s chinese\n",
        "    in_request = chinese_converter.to_simplified(in_request)\n",
        "  # Note default sampling is turned off for consistent result\n",
        "  out = model.predict(in_request,\n",
        "                      max_length=MAX_OUT_TOKENS,\n",
        "                      num_beams=num_beams)[0].replace(\",\", \"，\")\n",
        "  if is_input_traditional_chinese:\n",
        "    out = chinese_converter.to_traditional(out)\n",
        "  print(f\"上： {in_str}\\n下： {out}\")"
      ],
      "metadata": {
        "id": "yaHqRG2YC2Lb"
      },
      "execution_count": 8,
      "outputs": []
    },
    {
      "cell_type": "code",
      "source": [
        "for pre in ['欢天喜地度佳节',\n",
        "            '不待鸣钟已汗颜，重来试手竟何艰',\n",
        "            '当年欲跃龙门去，今日真披马革还',\n",
        "            '北国风光，千里冰封，万里雪飘',\n",
        "            '寂寞寒窗空守寡',\n",
        "            '烟锁池塘柳',\n",
        "            '五科五状元，金木水火土',\n",
        "            '望江楼，望江流，望江楼上望江流，江楼千古，江流千古']:\n",
        "  couplet(pre)"
      ],
      "metadata": {
        "colab": {
          "base_uri": "https://localhost:8080/"
        },
        "id": "Wtlx7eW4DRXd",
        "outputId": "3d761eb4-05d1-4947-eeea-1ac1dc20fa95"
      },
      "execution_count": 11,
      "outputs": [
        {
          "output_type": "stream",
          "name": "stdout",
          "text": [
            "上： 欢天喜地度佳节\n",
            "下： 笑语欢歌迎新春\n",
            "上： 不待鸣钟已汗颜，重来试手竟何艰\n",
            "下： 何堪击鼓频催泪?一别伤心更枉然\n",
            "上： 当年欲跃龙门去，今日真披马革还\n",
            "下： 此日当登虎榜来，他年又见龙图新\n",
            "上： 北国风光，千里冰封，万里雪飘\n",
            "下： 南疆气象，五湖浪涌，三江潮来\n",
            "上： 寂寞寒窗空守寡\n",
            "下： 逍遥野渡醉吟诗\n",
            "上： 烟锁池塘柳\n",
            "下： 云封岭上松\n",
            "上： 五科五状元，金木水火土\n",
            "下： 三才三进士，诗书礼乐诗\n",
            "上： 望江楼，望江流，望江楼上望江流，江楼千古，江流千古\n",
            "下： 听雨阁，听雨落，听雨阁中听雨落，雨阁万重，雨落万重\n"
          ]
        }
      ]
    },
    {
      "cell_type": "code",
      "source": [
        "for pre in ['飛龍在天', '臺北風光好']:\n",
        "  couplet(pre, is_input_traditional_chinese=True, num_beams=10)"
      ],
      "metadata": {
        "colab": {
          "base_uri": "https://localhost:8080/"
        },
        "id": "W78zjNQjEASD",
        "outputId": "1e8e8dfa-28b5-4db9-f0f3-3f22e5a4b4e9"
      },
      "execution_count": 10,
      "outputs": [
        {
          "output_type": "stream",
          "name": "stdout",
          "text": [
            "上： 飛龍在天\n",
            "下： 飛鳳於天\n",
            "上： 臺北風光好\n",
            "下： 神州氣象新\n"
          ]
        }
      ]
    }
  ]
}